{
 "cells": [
  {
   "cell_type": "code",
   "execution_count": 1,
   "metadata": {
    "collapsed": true
   },
   "outputs": [
    {
     "name": "stderr",
     "output_type": "stream",
     "text": [
      "2022-02-07 11:38:31.871864: W tensorflow/stream_executor/platform/default/dso_loader.cc:64] Could not load dynamic library 'libcudart.so.11.0'; dlerror: libcudart.so.11.0: cannot open shared object file: No such file or directory\n",
      "2022-02-07 11:38:31.871897: I tensorflow/stream_executor/cuda/cudart_stub.cc:29] Ignore above cudart dlerror if you do not have a GPU set up on your machine.\n",
      "2022-02-07 11:38:34.107613: W tensorflow/stream_executor/platform/default/dso_loader.cc:64] Could not load dynamic library 'libcuda.so.1'; dlerror: libcuda.so.1: cannot open shared object file: No such file or directory\n",
      "2022-02-07 11:38:34.107639: W tensorflow/stream_executor/cuda/cuda_driver.cc:269] failed call to cuInit: UNKNOWN ERROR (303)\n",
      "2022-02-07 11:38:34.107655: I tensorflow/stream_executor/cuda/cuda_diagnostics.cc:156] kernel driver does not appear to be running on this host (lowl-thinkpad-x1): /proc/driver/nvidia/version does not exist\n",
      "2022-02-07 11:38:34.107992: I tensorflow/core/platform/cpu_feature_guard.cc:151] This TensorFlow binary is optimized with oneAPI Deep Neural Network Library (oneDNN) to use the following CPU instructions in performance-critical operations:  AVX2 AVX512F FMA\n",
      "To enable them in other operations, rebuild TensorFlow with the appropriate compiler flags.\n"
     ]
    }
   ],
   "source": [
    "from alibi_detect.utils.saving import save_detector\n",
    "from sklearn import datasets\n",
    "import numpy as np\n",
    "from alibi_detect.cd import MMDDriftOnline"
   ]
  },
  {
   "cell_type": "code",
   "execution_count": 2,
   "outputs": [],
   "source": [
    "df = datasets.load_iris()"
   ],
   "metadata": {
    "collapsed": false,
    "pycharm": {
     "name": "#%%\n"
    }
   }
  },
  {
   "cell_type": "code",
   "execution_count": 3,
   "outputs": [],
   "source": [
    "data = df[\"data\"]\n",
    "target = df[\"target\"]"
   ],
   "metadata": {
    "collapsed": false,
    "pycharm": {
     "name": "#%%\n"
    }
   }
  },
  {
   "cell_type": "code",
   "execution_count": 4,
   "outputs": [
    {
     "data": {
      "text/plain": "(150, 4)"
     },
     "execution_count": 4,
     "metadata": {},
     "output_type": "execute_result"
    }
   ],
   "source": [
    "data.shape"
   ],
   "metadata": {
    "collapsed": false,
    "pycharm": {
     "name": "#%%\n"
    }
   }
  },
  {
   "cell_type": "code",
   "execution_count": 5,
   "outputs": [],
   "source": [
    "data_ref = data[:75]\n",
    "data_good = data[75:]\n",
    "data_drifted = data_good + 1.5\n",
    "data_test = np.vstack([data_good, data_drifted])"
   ],
   "metadata": {
    "collapsed": false,
    "pycharm": {
     "name": "#%%\n"
    }
   }
  },
  {
   "cell_type": "code",
   "execution_count": 6,
   "outputs": [
    {
     "name": "stdout",
     "output_type": "stream",
     "text": [
      "Generating permutations of kernel matrix..\n"
     ]
    },
    {
     "name": "stderr",
     "output_type": "stream",
     "text": [
      "100%|██████████| 1000/1000 [00:00<00:00, 10344.23it/s]\n",
      "Computing thresholds: 100%|██████████| 10/10 [00:12<00:00,  1.22s/it]\n"
     ]
    },
    {
     "ename": "ValueError",
     "evalue": "MMDDriftOnlineTF is not supported by `save_detector`.",
     "output_type": "error",
     "traceback": [
      "\u001B[0;31m---------------------------------------------------------------------------\u001B[0m",
      "\u001B[0;31mValueError\u001B[0m                                Traceback (most recent call last)",
      "Input \u001B[0;32mIn [6]\u001B[0m, in \u001B[0;36m<module>\u001B[0;34m\u001B[0m\n\u001B[1;32m      1\u001B[0m online_detector \u001B[38;5;241m=\u001B[39m MMDDriftOnline(data_ref, \u001B[38;5;241m10\u001B[39m, \u001B[38;5;241m10\u001B[39m)\n\u001B[0;32m----> 2\u001B[0m \u001B[43msave_detector\u001B[49m\u001B[43m(\u001B[49m\u001B[43monline_detector\u001B[49m\u001B[43m,\u001B[49m\u001B[43m \u001B[49m\u001B[38;5;124;43m\"\u001B[39;49m\u001B[38;5;124;43m./detector\u001B[39;49m\u001B[38;5;124;43m\"\u001B[39;49m\u001B[43m)\u001B[49m\n",
      "File \u001B[0;32m~/.local/share/virtualenvs/sudoku-rating-LdVA4LQU/lib/python3.9/site-packages/alibi_detect/utils/saving.py:97\u001B[0m, in \u001B[0;36msave_detector\u001B[0;34m(detector, filepath)\u001B[0m\n\u001B[1;32m     95\u001B[0m detector_name \u001B[38;5;241m=\u001B[39m detector\u001B[38;5;241m.\u001B[39mmeta[\u001B[38;5;124m'\u001B[39m\u001B[38;5;124mname\u001B[39m\u001B[38;5;124m'\u001B[39m]\n\u001B[1;32m     96\u001B[0m \u001B[38;5;28;01mif\u001B[39;00m detector_name \u001B[38;5;129;01mnot\u001B[39;00m \u001B[38;5;129;01min\u001B[39;00m DEFAULT_DETECTORS:\n\u001B[0;32m---> 97\u001B[0m     \u001B[38;5;28;01mraise\u001B[39;00m \u001B[38;5;167;01mValueError\u001B[39;00m(\u001B[38;5;124m'\u001B[39m\u001B[38;5;132;01m{}\u001B[39;00m\u001B[38;5;124m is not supported by `save_detector`.\u001B[39m\u001B[38;5;124m'\u001B[39m\u001B[38;5;241m.\u001B[39mformat(detector_name))\n\u001B[1;32m     99\u001B[0m \u001B[38;5;66;03m# check if path exists\u001B[39;00m\n\u001B[1;32m    100\u001B[0m filepath \u001B[38;5;241m=\u001B[39m Path(filepath)\n",
      "\u001B[0;31mValueError\u001B[0m: MMDDriftOnlineTF is not supported by `save_detector`."
     ]
    }
   ],
   "source": [
    "online_detector = MMDDriftOnline(data_ref, 10, 10)\n",
    "save_detector(online_detector, \"./detector\")"
   ],
   "metadata": {
    "collapsed": false,
    "pycharm": {
     "name": "#%%\n"
    }
   }
  },
  {
   "cell_type": "code",
   "execution_count": 47,
   "outputs": [
    {
     "name": "stdout",
     "output_type": "stream",
     "text": [
      "0 {'data': {'is_drift': 0, 'distance': None, 'p_val': None, 'threshold': 0.03820738196372986, 'time': 1, 'ert': 10, 'test_stat': -0.047602773}, 'meta': {'name': 'MMDDriftOnlineTF', 'detector_type': 'online', 'data_type': None, 'version': '0.8.1', 'backend': 'tensorflow'}}\n",
      "1 {'data': {'is_drift': 0, 'distance': None, 'p_val': None, 'threshold': 0.02840246632695198, 'time': 2, 'ert': 10, 'test_stat': -0.018837452}, 'meta': {'name': 'MMDDriftOnlineTF', 'detector_type': 'online', 'data_type': None, 'version': '0.8.1', 'backend': 'tensorflow'}}\n",
      "2 {'data': {'is_drift': 1, 'distance': None, 'p_val': None, 'threshold': 0.016078948974609375, 'time': 3, 'ert': 10, 'test_stat': 0.019406974}, 'meta': {'name': 'MMDDriftOnlineTF', 'detector_type': 'online', 'data_type': None, 'version': '0.8.1', 'backend': 'tensorflow'}}\n",
      "3 {'data': {'is_drift': 1, 'distance': None, 'p_val': None, 'threshold': 0.00860452651977539, 'time': 4, 'ert': 10, 'test_stat': 0.09757167}, 'meta': {'name': 'MMDDriftOnlineTF', 'detector_type': 'online', 'data_type': None, 'version': '0.8.1', 'backend': 'tensorflow'}}\n",
      "4 {'data': {'is_drift': 1, 'distance': None, 'p_val': None, 'threshold': 0.005610913038253784, 'time': 5, 'ert': 10, 'test_stat': 0.09183395}, 'meta': {'name': 'MMDDriftOnlineTF', 'detector_type': 'online', 'data_type': None, 'version': '0.8.1', 'backend': 'tensorflow'}}\n",
      "5 {'data': {'is_drift': 1, 'distance': None, 'p_val': None, 'threshold': 0.007348775863647461, 'time': 6, 'ert': 10, 'test_stat': 0.059535325}, 'meta': {'name': 'MMDDriftOnlineTF', 'detector_type': 'online', 'data_type': None, 'version': '0.8.1', 'backend': 'tensorflow'}}\n",
      "6 {'data': {'is_drift': 1, 'distance': None, 'p_val': None, 'threshold': 0.005464482121169567, 'time': 7, 'ert': 10, 'test_stat': 0.07335913}, 'meta': {'name': 'MMDDriftOnlineTF', 'detector_type': 'online', 'data_type': None, 'version': '0.8.1', 'backend': 'tensorflow'}}\n",
      "7 {'data': {'is_drift': 1, 'distance': None, 'p_val': None, 'threshold': 0.006054127123206854, 'time': 8, 'ert': 10, 'test_stat': 0.07708138}, 'meta': {'name': 'MMDDriftOnlineTF', 'detector_type': 'online', 'data_type': None, 'version': '0.8.1', 'backend': 'tensorflow'}}\n",
      "8 {'data': {'is_drift': 1, 'distance': None, 'p_val': None, 'threshold': 0.009985595941543579, 'time': 9, 'ert': 10, 'test_stat': 0.07188648}, 'meta': {'name': 'MMDDriftOnlineTF', 'detector_type': 'online', 'data_type': None, 'version': '0.8.1', 'backend': 'tensorflow'}}\n",
      "9 {'data': {'is_drift': 1, 'distance': None, 'p_val': None, 'threshold': 0.009985595941543579, 'time': 10, 'ert': 10, 'test_stat': 0.18827236}, 'meta': {'name': 'MMDDriftOnlineTF', 'detector_type': 'online', 'data_type': None, 'version': '0.8.1', 'backend': 'tensorflow'}}\n",
      "10 {'data': {'is_drift': 1, 'distance': None, 'p_val': None, 'threshold': 0.009985595941543579, 'time': 11, 'ert': 10, 'test_stat': 0.1683594}, 'meta': {'name': 'MMDDriftOnlineTF', 'detector_type': 'online', 'data_type': None, 'version': '0.8.1', 'backend': 'tensorflow'}}\n",
      "11 {'data': {'is_drift': 1, 'distance': None, 'p_val': None, 'threshold': 0.009985595941543579, 'time': 12, 'ert': 10, 'test_stat': 0.16941917}, 'meta': {'name': 'MMDDriftOnlineTF', 'detector_type': 'online', 'data_type': None, 'version': '0.8.1', 'backend': 'tensorflow'}}\n",
      "12 {'data': {'is_drift': 1, 'distance': None, 'p_val': None, 'threshold': 0.009985595941543579, 'time': 13, 'ert': 10, 'test_stat': 0.16731918}, 'meta': {'name': 'MMDDriftOnlineTF', 'detector_type': 'online', 'data_type': None, 'version': '0.8.1', 'backend': 'tensorflow'}}\n",
      "13 {'data': {'is_drift': 1, 'distance': None, 'p_val': None, 'threshold': 0.009985595941543579, 'time': 14, 'ert': 10, 'test_stat': 0.15490061}, 'meta': {'name': 'MMDDriftOnlineTF', 'detector_type': 'online', 'data_type': None, 'version': '0.8.1', 'backend': 'tensorflow'}}\n",
      "14 {'data': {'is_drift': 1, 'distance': None, 'p_val': None, 'threshold': 0.009985595941543579, 'time': 15, 'ert': 10, 'test_stat': 0.1173206}, 'meta': {'name': 'MMDDriftOnlineTF', 'detector_type': 'online', 'data_type': None, 'version': '0.8.1', 'backend': 'tensorflow'}}\n",
      "15 {'data': {'is_drift': 1, 'distance': None, 'p_val': None, 'threshold': 0.009985595941543579, 'time': 16, 'ert': 10, 'test_stat': 0.10287088}, 'meta': {'name': 'MMDDriftOnlineTF', 'detector_type': 'online', 'data_type': None, 'version': '0.8.1', 'backend': 'tensorflow'}}\n",
      "16 {'data': {'is_drift': 1, 'distance': None, 'p_val': None, 'threshold': 0.009985595941543579, 'time': 17, 'ert': 10, 'test_stat': 0.09314513}, 'meta': {'name': 'MMDDriftOnlineTF', 'detector_type': 'online', 'data_type': None, 'version': '0.8.1', 'backend': 'tensorflow'}}\n",
      "17 {'data': {'is_drift': 1, 'distance': None, 'p_val': None, 'threshold': 0.009985595941543579, 'time': 18, 'ert': 10, 'test_stat': 0.09362221}, 'meta': {'name': 'MMDDriftOnlineTF', 'detector_type': 'online', 'data_type': None, 'version': '0.8.1', 'backend': 'tensorflow'}}\n",
      "18 {'data': {'is_drift': 1, 'distance': None, 'p_val': None, 'threshold': 0.009985595941543579, 'time': 19, 'ert': 10, 'test_stat': 0.108935654}, 'meta': {'name': 'MMDDriftOnlineTF', 'detector_type': 'online', 'data_type': None, 'version': '0.8.1', 'backend': 'tensorflow'}}\n",
      "19 {'data': {'is_drift': 1, 'distance': None, 'p_val': None, 'threshold': 0.009985595941543579, 'time': 20, 'ert': 10, 'test_stat': 0.12833947}, 'meta': {'name': 'MMDDriftOnlineTF', 'detector_type': 'online', 'data_type': None, 'version': '0.8.1', 'backend': 'tensorflow'}}\n",
      "20 {'data': {'is_drift': 1, 'distance': None, 'p_val': None, 'threshold': 0.009985595941543579, 'time': 21, 'ert': 10, 'test_stat': 0.11754298}, 'meta': {'name': 'MMDDriftOnlineTF', 'detector_type': 'online', 'data_type': None, 'version': '0.8.1', 'backend': 'tensorflow'}}\n",
      "21 {'data': {'is_drift': 1, 'distance': None, 'p_val': None, 'threshold': 0.009985595941543579, 'time': 22, 'ert': 10, 'test_stat': 0.13545299}, 'meta': {'name': 'MMDDriftOnlineTF', 'detector_type': 'online', 'data_type': None, 'version': '0.8.1', 'backend': 'tensorflow'}}\n",
      "22 {'data': {'is_drift': 1, 'distance': None, 'p_val': None, 'threshold': 0.009985595941543579, 'time': 23, 'ert': 10, 'test_stat': 0.14789307}, 'meta': {'name': 'MMDDriftOnlineTF', 'detector_type': 'online', 'data_type': None, 'version': '0.8.1', 'backend': 'tensorflow'}}\n",
      "23 {'data': {'is_drift': 1, 'distance': None, 'p_val': None, 'threshold': 0.009985595941543579, 'time': 24, 'ert': 10, 'test_stat': 0.1872217}, 'meta': {'name': 'MMDDriftOnlineTF', 'detector_type': 'online', 'data_type': None, 'version': '0.8.1', 'backend': 'tensorflow'}}\n",
      "24 {'data': {'is_drift': 1, 'distance': None, 'p_val': None, 'threshold': 0.009985595941543579, 'time': 25, 'ert': 10, 'test_stat': 0.16125089}, 'meta': {'name': 'MMDDriftOnlineTF', 'detector_type': 'online', 'data_type': None, 'version': '0.8.1', 'backend': 'tensorflow'}}\n",
      "25 {'data': {'is_drift': 1, 'distance': None, 'p_val': None, 'threshold': 0.009985595941543579, 'time': 26, 'ert': 10, 'test_stat': 0.15774083}, 'meta': {'name': 'MMDDriftOnlineTF', 'detector_type': 'online', 'data_type': None, 'version': '0.8.1', 'backend': 'tensorflow'}}\n",
      "26 {'data': {'is_drift': 1, 'distance': None, 'p_val': None, 'threshold': 0.009985595941543579, 'time': 27, 'ert': 10, 'test_stat': 0.16631353}, 'meta': {'name': 'MMDDriftOnlineTF', 'detector_type': 'online', 'data_type': None, 'version': '0.8.1', 'backend': 'tensorflow'}}\n",
      "27 {'data': {'is_drift': 1, 'distance': None, 'p_val': None, 'threshold': 0.009985595941543579, 'time': 28, 'ert': 10, 'test_stat': 0.16743588}, 'meta': {'name': 'MMDDriftOnlineTF', 'detector_type': 'online', 'data_type': None, 'version': '0.8.1', 'backend': 'tensorflow'}}\n",
      "28 {'data': {'is_drift': 1, 'distance': None, 'p_val': None, 'threshold': 0.009985595941543579, 'time': 29, 'ert': 10, 'test_stat': 0.1838944}, 'meta': {'name': 'MMDDriftOnlineTF', 'detector_type': 'online', 'data_type': None, 'version': '0.8.1', 'backend': 'tensorflow'}}\n",
      "29 {'data': {'is_drift': 1, 'distance': None, 'p_val': None, 'threshold': 0.009985595941543579, 'time': 30, 'ert': 10, 'test_stat': 0.18439734}, 'meta': {'name': 'MMDDriftOnlineTF', 'detector_type': 'online', 'data_type': None, 'version': '0.8.1', 'backend': 'tensorflow'}}\n",
      "30 {'data': {'is_drift': 1, 'distance': None, 'p_val': None, 'threshold': 0.009985595941543579, 'time': 31, 'ert': 10, 'test_stat': 0.19091153}, 'meta': {'name': 'MMDDriftOnlineTF', 'detector_type': 'online', 'data_type': None, 'version': '0.8.1', 'backend': 'tensorflow'}}\n",
      "31 {'data': {'is_drift': 1, 'distance': None, 'p_val': None, 'threshold': 0.009985595941543579, 'time': 32, 'ert': 10, 'test_stat': 0.19174016}, 'meta': {'name': 'MMDDriftOnlineTF', 'detector_type': 'online', 'data_type': None, 'version': '0.8.1', 'backend': 'tensorflow'}}\n",
      "32 {'data': {'is_drift': 1, 'distance': None, 'p_val': None, 'threshold': 0.009985595941543579, 'time': 33, 'ert': 10, 'test_stat': 0.1859442}, 'meta': {'name': 'MMDDriftOnlineTF', 'detector_type': 'online', 'data_type': None, 'version': '0.8.1', 'backend': 'tensorflow'}}\n",
      "33 {'data': {'is_drift': 1, 'distance': None, 'p_val': None, 'threshold': 0.009985595941543579, 'time': 34, 'ert': 10, 'test_stat': 0.15239584}, 'meta': {'name': 'MMDDriftOnlineTF', 'detector_type': 'online', 'data_type': None, 'version': '0.8.1', 'backend': 'tensorflow'}}\n",
      "34 {'data': {'is_drift': 1, 'distance': None, 'p_val': None, 'threshold': 0.009985595941543579, 'time': 35, 'ert': 10, 'test_stat': 0.1547885}, 'meta': {'name': 'MMDDriftOnlineTF', 'detector_type': 'online', 'data_type': None, 'version': '0.8.1', 'backend': 'tensorflow'}}\n",
      "35 {'data': {'is_drift': 1, 'distance': None, 'p_val': None, 'threshold': 0.009985595941543579, 'time': 36, 'ert': 10, 'test_stat': 0.15430772}, 'meta': {'name': 'MMDDriftOnlineTF', 'detector_type': 'online', 'data_type': None, 'version': '0.8.1', 'backend': 'tensorflow'}}\n",
      "36 {'data': {'is_drift': 1, 'distance': None, 'p_val': None, 'threshold': 0.009985595941543579, 'time': 37, 'ert': 10, 'test_stat': 0.15448213}, 'meta': {'name': 'MMDDriftOnlineTF', 'detector_type': 'online', 'data_type': None, 'version': '0.8.1', 'backend': 'tensorflow'}}\n",
      "37 {'data': {'is_drift': 1, 'distance': None, 'p_val': None, 'threshold': 0.009985595941543579, 'time': 38, 'ert': 10, 'test_stat': 0.1490506}, 'meta': {'name': 'MMDDriftOnlineTF', 'detector_type': 'online', 'data_type': None, 'version': '0.8.1', 'backend': 'tensorflow'}}\n",
      "38 {'data': {'is_drift': 1, 'distance': None, 'p_val': None, 'threshold': 0.009985595941543579, 'time': 39, 'ert': 10, 'test_stat': 0.12565672}, 'meta': {'name': 'MMDDriftOnlineTF', 'detector_type': 'online', 'data_type': None, 'version': '0.8.1', 'backend': 'tensorflow'}}\n",
      "39 {'data': {'is_drift': 1, 'distance': None, 'p_val': None, 'threshold': 0.009985595941543579, 'time': 40, 'ert': 10, 'test_stat': 0.13346452}, 'meta': {'name': 'MMDDriftOnlineTF', 'detector_type': 'online', 'data_type': None, 'version': '0.8.1', 'backend': 'tensorflow'}}\n",
      "40 {'data': {'is_drift': 1, 'distance': None, 'p_val': None, 'threshold': 0.009985595941543579, 'time': 41, 'ert': 10, 'test_stat': 0.14508867}, 'meta': {'name': 'MMDDriftOnlineTF', 'detector_type': 'online', 'data_type': None, 'version': '0.8.1', 'backend': 'tensorflow'}}\n",
      "41 {'data': {'is_drift': 1, 'distance': None, 'p_val': None, 'threshold': 0.009985595941543579, 'time': 42, 'ert': 10, 'test_stat': 0.11364281}, 'meta': {'name': 'MMDDriftOnlineTF', 'detector_type': 'online', 'data_type': None, 'version': '0.8.1', 'backend': 'tensorflow'}}\n",
      "42 {'data': {'is_drift': 1, 'distance': None, 'p_val': None, 'threshold': 0.009985595941543579, 'time': 43, 'ert': 10, 'test_stat': 0.1295349}, 'meta': {'name': 'MMDDriftOnlineTF', 'detector_type': 'online', 'data_type': None, 'version': '0.8.1', 'backend': 'tensorflow'}}\n",
      "43 {'data': {'is_drift': 1, 'distance': None, 'p_val': None, 'threshold': 0.009985595941543579, 'time': 44, 'ert': 10, 'test_stat': 0.16022885}, 'meta': {'name': 'MMDDriftOnlineTF', 'detector_type': 'online', 'data_type': None, 'version': '0.8.1', 'backend': 'tensorflow'}}\n",
      "44 {'data': {'is_drift': 1, 'distance': None, 'p_val': None, 'threshold': 0.009985595941543579, 'time': 45, 'ert': 10, 'test_stat': 0.12952173}, 'meta': {'name': 'MMDDriftOnlineTF', 'detector_type': 'online', 'data_type': None, 'version': '0.8.1', 'backend': 'tensorflow'}}\n",
      "45 {'data': {'is_drift': 1, 'distance': None, 'p_val': None, 'threshold': 0.009985595941543579, 'time': 46, 'ert': 10, 'test_stat': 0.13157713}, 'meta': {'name': 'MMDDriftOnlineTF', 'detector_type': 'online', 'data_type': None, 'version': '0.8.1', 'backend': 'tensorflow'}}\n",
      "46 {'data': {'is_drift': 1, 'distance': None, 'p_val': None, 'threshold': 0.009985595941543579, 'time': 47, 'ert': 10, 'test_stat': 0.13864249}, 'meta': {'name': 'MMDDriftOnlineTF', 'detector_type': 'online', 'data_type': None, 'version': '0.8.1', 'backend': 'tensorflow'}}\n",
      "47 {'data': {'is_drift': 1, 'distance': None, 'p_val': None, 'threshold': 0.009985595941543579, 'time': 48, 'ert': 10, 'test_stat': 0.15029323}, 'meta': {'name': 'MMDDriftOnlineTF', 'detector_type': 'online', 'data_type': None, 'version': '0.8.1', 'backend': 'tensorflow'}}\n",
      "48 {'data': {'is_drift': 1, 'distance': None, 'p_val': None, 'threshold': 0.009985595941543579, 'time': 49, 'ert': 10, 'test_stat': 0.13232261}, 'meta': {'name': 'MMDDriftOnlineTF', 'detector_type': 'online', 'data_type': None, 'version': '0.8.1', 'backend': 'tensorflow'}}\n",
      "49 {'data': {'is_drift': 1, 'distance': None, 'p_val': None, 'threshold': 0.009985595941543579, 'time': 50, 'ert': 10, 'test_stat': 0.13490671}, 'meta': {'name': 'MMDDriftOnlineTF', 'detector_type': 'online', 'data_type': None, 'version': '0.8.1', 'backend': 'tensorflow'}}\n",
      "50 {'data': {'is_drift': 1, 'distance': None, 'p_val': None, 'threshold': 0.009985595941543579, 'time': 51, 'ert': 10, 'test_stat': 0.047679007}, 'meta': {'name': 'MMDDriftOnlineTF', 'detector_type': 'online', 'data_type': None, 'version': '0.8.1', 'backend': 'tensorflow'}}\n",
      "51 {'data': {'is_drift': 0, 'distance': None, 'p_val': None, 'threshold': 0.009985595941543579, 'time': 52, 'ert': 10, 'test_stat': -0.0033586621}, 'meta': {'name': 'MMDDriftOnlineTF', 'detector_type': 'online', 'data_type': None, 'version': '0.8.1', 'backend': 'tensorflow'}}\n",
      "52 {'data': {'is_drift': 0, 'distance': None, 'p_val': None, 'threshold': 0.009985595941543579, 'time': 53, 'ert': 10, 'test_stat': -0.01933521}, 'meta': {'name': 'MMDDriftOnlineTF', 'detector_type': 'online', 'data_type': None, 'version': '0.8.1', 'backend': 'tensorflow'}}\n",
      "53 {'data': {'is_drift': 0, 'distance': None, 'p_val': None, 'threshold': 0.009985595941543579, 'time': 54, 'ert': 10, 'test_stat': -0.05161649}, 'meta': {'name': 'MMDDriftOnlineTF', 'detector_type': 'online', 'data_type': None, 'version': '0.8.1', 'backend': 'tensorflow'}}\n",
      "54 {'data': {'is_drift': 0, 'distance': None, 'p_val': None, 'threshold': 0.009985595941543579, 'time': 55, 'ert': 10, 'test_stat': -0.019143343}, 'meta': {'name': 'MMDDriftOnlineTF', 'detector_type': 'online', 'data_type': None, 'version': '0.8.1', 'backend': 'tensorflow'}}\n",
      "55 {'data': {'is_drift': 1, 'distance': None, 'p_val': None, 'threshold': 0.009985595941543579, 'time': 56, 'ert': 10, 'test_stat': 0.025790155}, 'meta': {'name': 'MMDDriftOnlineTF', 'detector_type': 'online', 'data_type': None, 'version': '0.8.1', 'backend': 'tensorflow'}}\n",
      "56 {'data': {'is_drift': 1, 'distance': None, 'p_val': None, 'threshold': 0.009985595941543579, 'time': 57, 'ert': 10, 'test_stat': 0.12757224}, 'meta': {'name': 'MMDDriftOnlineTF', 'detector_type': 'online', 'data_type': None, 'version': '0.8.1', 'backend': 'tensorflow'}}\n",
      "57 {'data': {'is_drift': 1, 'distance': None, 'p_val': None, 'threshold': 0.009985595941543579, 'time': 58, 'ert': 10, 'test_stat': 0.1937316}, 'meta': {'name': 'MMDDriftOnlineTF', 'detector_type': 'online', 'data_type': None, 'version': '0.8.1', 'backend': 'tensorflow'}}\n",
      "58 {'data': {'is_drift': 1, 'distance': None, 'p_val': None, 'threshold': 0.009985595941543579, 'time': 59, 'ert': 10, 'test_stat': 0.35715148}, 'meta': {'name': 'MMDDriftOnlineTF', 'detector_type': 'online', 'data_type': None, 'version': '0.8.1', 'backend': 'tensorflow'}}\n",
      "59 {'data': {'is_drift': 1, 'distance': None, 'p_val': None, 'threshold': 0.009985595941543579, 'time': 60, 'ert': 10, 'test_stat': 0.51012194}, 'meta': {'name': 'MMDDriftOnlineTF', 'detector_type': 'online', 'data_type': None, 'version': '0.8.1', 'backend': 'tensorflow'}}\n",
      "60 {'data': {'is_drift': 1, 'distance': None, 'p_val': None, 'threshold': 0.009985595941543579, 'time': 61, 'ert': 10, 'test_stat': 0.47724918}, 'meta': {'name': 'MMDDriftOnlineTF', 'detector_type': 'online', 'data_type': None, 'version': '0.8.1', 'backend': 'tensorflow'}}\n",
      "61 {'data': {'is_drift': 1, 'distance': None, 'p_val': None, 'threshold': 0.009985595941543579, 'time': 62, 'ert': 10, 'test_stat': 0.48055026}, 'meta': {'name': 'MMDDriftOnlineTF', 'detector_type': 'online', 'data_type': None, 'version': '0.8.1', 'backend': 'tensorflow'}}\n",
      "62 {'data': {'is_drift': 1, 'distance': None, 'p_val': None, 'threshold': 0.009985595941543579, 'time': 63, 'ert': 10, 'test_stat': 0.5041436}, 'meta': {'name': 'MMDDriftOnlineTF', 'detector_type': 'online', 'data_type': None, 'version': '0.8.1', 'backend': 'tensorflow'}}\n",
      "63 {'data': {'is_drift': 1, 'distance': None, 'p_val': None, 'threshold': 0.009985595941543579, 'time': 64, 'ert': 10, 'test_stat': 0.49848136}, 'meta': {'name': 'MMDDriftOnlineTF', 'detector_type': 'online', 'data_type': None, 'version': '0.8.1', 'backend': 'tensorflow'}}\n",
      "64 {'data': {'is_drift': 1, 'distance': None, 'p_val': None, 'threshold': 0.009985595941543579, 'time': 65, 'ert': 10, 'test_stat': 0.5026977}, 'meta': {'name': 'MMDDriftOnlineTF', 'detector_type': 'online', 'data_type': None, 'version': '0.8.1', 'backend': 'tensorflow'}}\n",
      "65 {'data': {'is_drift': 1, 'distance': None, 'p_val': None, 'threshold': 0.009985595941543579, 'time': 66, 'ert': 10, 'test_stat': 0.47980988}, 'meta': {'name': 'MMDDriftOnlineTF', 'detector_type': 'online', 'data_type': None, 'version': '0.8.1', 'backend': 'tensorflow'}}\n",
      "66 {'data': {'is_drift': 1, 'distance': None, 'p_val': None, 'threshold': 0.009985595941543579, 'time': 67, 'ert': 10, 'test_stat': 0.49494848}, 'meta': {'name': 'MMDDriftOnlineTF', 'detector_type': 'online', 'data_type': None, 'version': '0.8.1', 'backend': 'tensorflow'}}\n",
      "67 {'data': {'is_drift': 1, 'distance': None, 'p_val': None, 'threshold': 0.009985595941543579, 'time': 68, 'ert': 10, 'test_stat': 0.5395856}, 'meta': {'name': 'MMDDriftOnlineTF', 'detector_type': 'online', 'data_type': None, 'version': '0.8.1', 'backend': 'tensorflow'}}\n",
      "68 {'data': {'is_drift': 1, 'distance': None, 'p_val': None, 'threshold': 0.009985595941543579, 'time': 69, 'ert': 10, 'test_stat': 0.54722357}, 'meta': {'name': 'MMDDriftOnlineTF', 'detector_type': 'online', 'data_type': None, 'version': '0.8.1', 'backend': 'tensorflow'}}\n",
      "69 {'data': {'is_drift': 1, 'distance': None, 'p_val': None, 'threshold': 0.009985595941543579, 'time': 70, 'ert': 10, 'test_stat': 0.5621612}, 'meta': {'name': 'MMDDriftOnlineTF', 'detector_type': 'online', 'data_type': None, 'version': '0.8.1', 'backend': 'tensorflow'}}\n",
      "70 {'data': {'is_drift': 1, 'distance': None, 'p_val': None, 'threshold': 0.009985595941543579, 'time': 71, 'ert': 10, 'test_stat': 0.5892488}, 'meta': {'name': 'MMDDriftOnlineTF', 'detector_type': 'online', 'data_type': None, 'version': '0.8.1', 'backend': 'tensorflow'}}\n",
      "71 {'data': {'is_drift': 1, 'distance': None, 'p_val': None, 'threshold': 0.009985595941543579, 'time': 72, 'ert': 10, 'test_stat': 0.5900235}, 'meta': {'name': 'MMDDriftOnlineTF', 'detector_type': 'online', 'data_type': None, 'version': '0.8.1', 'backend': 'tensorflow'}}\n",
      "72 {'data': {'is_drift': 1, 'distance': None, 'p_val': None, 'threshold': 0.009985595941543579, 'time': 73, 'ert': 10, 'test_stat': 0.58503383}, 'meta': {'name': 'MMDDriftOnlineTF', 'detector_type': 'online', 'data_type': None, 'version': '0.8.1', 'backend': 'tensorflow'}}\n",
      "73 {'data': {'is_drift': 1, 'distance': None, 'p_val': None, 'threshold': 0.009985595941543579, 'time': 74, 'ert': 10, 'test_stat': 0.5843308}, 'meta': {'name': 'MMDDriftOnlineTF', 'detector_type': 'online', 'data_type': None, 'version': '0.8.1', 'backend': 'tensorflow'}}\n",
      "74 {'data': {'is_drift': 1, 'distance': None, 'p_val': None, 'threshold': 0.009985595941543579, 'time': 75, 'ert': 10, 'test_stat': 0.6185669}, 'meta': {'name': 'MMDDriftOnlineTF', 'detector_type': 'online', 'data_type': None, 'version': '0.8.1', 'backend': 'tensorflow'}}\n"
     ]
    }
   ],
   "source": [
    "online_detector.reset()\n",
    "for i, test in enumerate(data_ref):\n",
    "    print(i, online_detector.predict(test, return_test_stat=True))\n",
    "# data_test[0, :]"
   ],
   "metadata": {
    "collapsed": false,
    "pycharm": {
     "name": "#%%\n"
    }
   }
  },
  {
   "cell_type": "code",
   "execution_count": 21,
   "outputs": [],
   "source": [
    "import pandas as pd\n",
    "df_test = pd.read_csv(\"../../../data/sudoku-3m.csv\")"
   ],
   "metadata": {
    "collapsed": false,
    "pycharm": {
     "name": "#%%\n"
    }
   }
  },
  {
   "cell_type": "code",
   "execution_count": 36,
   "outputs": [
    {
     "name": "stdout",
     "output_type": "stream",
     "text": [
      "[[7, 0, 0, 0, 0, 0, 0, 0, 0, 0, 0, 2, 0, 0, 0, 0, 0, 0, 9, 0, 6, 0, 2, 8, 0, 1, 0, 0, 0, 0, 2, 8, 0, 0, 3, 0, 0, 0, 0, 0, 0, 0, 5, 0, 4, 0, 0, 0, 6, 0, 0, 0, 0, 2, 0, 0, 8, 7, 0, 0, 0, 4, 5, 6, 0, 0, 0, 0, 0, 7, 0, 0, 0, 4, 0, 0, 1, 0, 9, 0, 0], [0, 5, 0, 0, 0, 0, 0, 0, 2, 0, 0, 0, 5, 8, 0, 0, 0, 1, 0, 0, 7, 0, 0, 1, 6, 0, 0, 0, 0, 2, 0, 0, 0, 4, 0, 0, 0, 8, 4, 9, 0, 3, 0, 0, 0, 9, 0, 0, 0, 0, 0, 0, 0, 6, 0, 0, 0, 0, 5, 2, 0, 0, 7, 0, 0, 3, 7, 1, 0, 0, 0, 8, 0, 0, 0, 0, 0, 4, 0, 0, 0], [0, 0, 0, 0, 0, 9, 0, 4, 8, 0, 0, 0, 6, 0, 0, 3, 0, 0, 0, 0, 4, 0, 8, 7, 0, 5, 0, 0, 0, 7, 1, 0, 2, 0, 0, 5, 0, 0, 0, 0, 0, 6, 0, 0, 9, 0, 6, 8, 0, 0, 0, 7, 0, 0, 0, 0, 0, 2, 3, 4, 0, 0, 0, 7, 0, 0, 0, 0, 0, 0, 0, 3, 0, 0, 6, 0, 0, 0, 0, 2, 0], [0, 0, 0, 0, 0, 0, 2, 3, 0, 0, 0, 0, 8, 0, 0, 7, 9, 6, 0, 0, 5, 0, 0, 0, 0, 0, 0, 0, 9, 8, 7, 0, 1, 0, 0, 0, 0, 3, 4, 2, 0, 5, 9, 0, 0, 6, 0, 0, 0, 0, 0, 4, 0, 0, 0, 4, 0, 0, 0, 3, 0, 0, 0, 0, 0, 0, 0, 0, 0, 0, 0, 0, 7, 0, 9, 0, 0, 0, 0, 6, 1], [7, 0, 4, 0, 0, 6, 0, 8, 0, 6, 0, 0, 0, 0, 8, 5, 0, 4, 0, 9, 0, 0, 0, 0, 0, 0, 0, 0, 1, 0, 0, 0, 0, 0, 0, 0, 0, 0, 0, 2, 0, 5, 4, 0, 0, 0, 3, 0, 0, 0, 0, 1, 5, 6, 2, 0, 0, 5, 7, 0, 0, 0, 0, 0, 0, 0, 0, 2, 0, 0, 0, 0, 0, 0, 0, 9, 0, 0, 0, 4, 7]]\n"
     ]
    }
   ],
   "source": [
    "def get_category(char: str) -> int:\n",
    "    if char == \".\":\n",
    "        return 0\n",
    "    else:\n",
    "        return int(char)\n",
    "\n",
    "\n",
    "def prepare_puzzle(puzzle: str) -> np.ndarray:\n",
    "    return np.array([get_category(char) for char in puzzle])\n",
    "\n",
    "import json\n",
    "\n",
    "print(json.dumps(np.stack(df_test.puzzle.iloc[-5:].apply(prepare_puzzle).values).tolist()))"
   ],
   "metadata": {
    "collapsed": false,
    "pycharm": {
     "name": "#%%\n"
    }
   }
  }
 ],
 "metadata": {
  "kernelspec": {
   "display_name": "Python 3",
   "language": "python",
   "name": "python3"
  },
  "language_info": {
   "codemirror_mode": {
    "name": "ipython",
    "version": 2
   },
   "file_extension": ".py",
   "mimetype": "text/x-python",
   "name": "python",
   "nbconvert_exporter": "python",
   "pygments_lexer": "ipython2",
   "version": "2.7.6"
  }
 },
 "nbformat": 4,
 "nbformat_minor": 0
}